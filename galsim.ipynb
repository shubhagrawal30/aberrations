{
 "cells": [
  {
   "cell_type": "code",
   "execution_count": 1,
   "id": "0621c902-7193-4bbd-84d2-0aea4bc4d870",
   "metadata": {},
   "outputs": [],
   "source": [
    "import numpy as np\n",
    "import galsim\n",
    "import matplotlib.pyplot as plt\n",
    "from astropy.io import fits"
   ]
  },
  {
   "cell_type": "code",
   "execution_count": null,
   "id": "a8b4a727-b81b-42c6-8275-16d0583e698d",
   "metadata": {},
   "outputs": [],
   "source": []
  }
 ],
 "metadata": {
  "kernelspec": {
   "display_name": "shubh-jupyter",
   "language": "python",
   "name": "shubh-jupyter"
  },
  "language_info": {
   "codemirror_mode": {
    "name": "ipython",
    "version": 3
   },
   "file_extension": ".py",
   "mimetype": "text/x-python",
   "name": "python",
   "nbconvert_exporter": "python",
   "pygments_lexer": "ipython3",
   "version": "3.9.15"
  }
 },
 "nbformat": 4,
 "nbformat_minor": 5
}
