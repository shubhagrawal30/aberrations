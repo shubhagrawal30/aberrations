{
 "cells": [
  {
   "cell_type": "code",
   "execution_count": 26,
   "id": "2eb492f3-b008-42be-a291-9d8b0837e8a8",
   "metadata": {},
   "outputs": [],
   "source": [
    "import numpy as np\n",
    "from astropy.io import fits\n",
    "import matplotlib.pyplot as plt\n",
    "import astropy.units as u"
   ]
  },
  {
   "cell_type": "code",
   "execution_count": 10,
   "id": "954af596",
   "metadata": {},
   "outputs": [
    {
     "name": "stdout",
     "output_type": "stream",
     "text": [
      "ColDefs(\n",
      "    name = 'x'; format = 'D'\n",
      "    name = 'y'; format = 'D'\n",
      "    name = 'w'; format = 'D'\n",
      "    name = 'g1'; format = 'D'\n",
      "    name = 'g2'; format = 'D'\n",
      ")\n"
     ]
    }
   ],
   "source": [
    "data_file = \"../data/optic_shapes.fits\"\n",
    "\n",
    "# Read in the data\n",
    "with fits.open(data_file) as hdul:\n",
    "    data = hdul[1].data\n",
    "    print(hdul[1].columns)"
   ]
  },
  {
   "cell_type": "code",
   "execution_count": 35,
   "id": "389da7b8",
   "metadata": {},
   "outputs": [
    {
     "name": "stderr",
     "output_type": "stream",
     "text": [
      "/global/cfs/cdirs/des/shubh/.conda/envs/aber/lib/python3.9/site-packages/matplotlib/cbook/__init__.py:1335: ComplexWarning: Casting complex values to real discards the imaginary part\n",
      "  return np.asarray(x, float)\n"
     ]
    }
   ],
   "source": [
    "gammas = data[\"g1\"] + 1j*data[\"g2\"]\n",
    "\n",
    "def getLineParameters(xpos, ypos, gamma):\n",
    "    length, angle = np.abs(gamma), np.angle(gamma)\n",
    "    return [xpos - np.cos(angle)*length/2, xpos + np.cos(angle)*length/2], \\\n",
    "            [ypos - np.sin(angle)*length/2, ypos + np.sin(angle)*length/2]\n",
    "\n",
    "conversion_factor = (1*u.arcsec/u.degree).to(\"\").value\n",
    "RA_vals, Dec_vals = data[\"x\"] * conversion_factor, data[\"y\"] * conversion_factor\n",
    "\n",
    "scaling_factor = 5\n",
    "fig, ax = plt.subplots()\n",
    "for ra, de, gam in np.vstack((RA_vals, Dec_vals, gammas)).T:\n",
    "    plt.plot(*getLineParameters(ra, de, gam*scaling_factor), \\\n",
    "                color=\"black\", lw=1, alpha = 0.5)\n",
    "\n",
    "# Show the plot\n",
    "plot_margin = 0.25\n",
    "ax.set_aspect('equal')\n",
    "plt.xlim([np.nanmin(RA_vals) - plot_margin, np.nanmax(RA_vals) + plot_margin])\n",
    "plt.ylim([np.nanmin(Dec_vals) - plot_margin, np.nanmax(Dec_vals) + plot_margin])\n",
    "plt.show()\n",
    "plt.close()"
   ]
  },
  {
   "cell_type": "code",
   "execution_count": null,
   "id": "0af19965",
   "metadata": {},
   "outputs": [],
   "source": []
  }
 ],
 "metadata": {
  "kernelspec": {
   "display_name": "aber",
   "language": "python",
   "name": "python3"
  },
  "language_info": {
   "codemirror_mode": {
    "name": "ipython",
    "version": 3
   },
   "file_extension": ".py",
   "mimetype": "text/x-python",
   "name": "python",
   "nbconvert_exporter": "python",
   "pygments_lexer": "ipython3",
   "version": "3.9.16"
  }
 },
 "nbformat": 4,
 "nbformat_minor": 5
}
