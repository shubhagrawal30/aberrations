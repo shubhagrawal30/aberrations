{
 "cells": [
  {
   "cell_type": "code",
   "execution_count": 1,
   "id": "02305557-d26c-40a2-9366-a210658e61ed",
   "metadata": {},
   "outputs": [],
   "source": [
    "import numpy as np\n",
    "from matplotlib import pyplot as plt\n",
    "from astropy import constants as c\n",
    "from astropy import units as u\n",
    "import sys, os, glob\n",
    "from astropy.io import fits\n",
    "from matplotlib.patches import Ellipse"
   ]
  },
  {
   "cell_type": "code",
   "execution_count": 6,
   "id": "5a389f05-369d-4f2b-aeb9-fe80599df4b2",
   "metadata": {},
   "outputs": [],
   "source": [
    "d = lambda x, y: 1\n",
    "a = lambda x, y: 1 + 1j\n",
    "c = lambda x, y: 1 + 1j\n",
    "s = lambda x, y: 1"
   ]
  },
  {
   "cell_type": "code",
   "execution_count": 7,
   "id": "2fa32336-4fb4-40c4-9243-57afd5f16c61",
   "metadata": {},
   "outputs": [],
   "source": [
    "def Q(x, y):\n",
    "    return 4 * (d(x, y) + 4/3 * s(x, y)) * a(x, y) + 1/3 * c(x, y)**2\n",
    "def S(x, y):\n",
    "    return 2 * (d(x, y) + 4/3 * s(x, y)) ** 2 \\\n",
    "            + 2 * np.abs(a(x, y))**2 + 2/3 * np.abs(c(x, y))**2 + 4/9 * np.abs(s(x, y))**2"
   ]
  },
  {
   "cell_type": "code",
   "execution_count": 8,
   "id": "2a133d70-1873-443c-be17-e108e022741f",
   "metadata": {},
   "outputs": [
    {
     "data": {
      "text/plain": [
       "((9.333333333333332+9.999999999999998j), 16.66666666666666)"
      ]
     },
     "execution_count": 8,
     "metadata": {},
     "output_type": "execute_result"
    }
   ],
   "source": [
    "Q(0, 0), S(0, 0)"
   ]
  },
  {
   "cell_type": "code",
   "execution_count": null,
   "id": "eb917ac9-950a-481a-a668-65862d3c703e",
   "metadata": {},
   "outputs": [],
   "source": []
  }
 ],
 "metadata": {
  "kernelspec": {
   "display_name": "shubh-jupyter",
   "language": "python",
   "name": "shubh-jupyter"
  },
  "language_info": {
   "codemirror_mode": {
    "name": "ipython",
    "version": 3
   },
   "file_extension": ".py",
   "mimetype": "text/x-python",
   "name": "python",
   "nbconvert_exporter": "python",
   "pygments_lexer": "ipython3",
   "version": "3.9.15"
  }
 },
 "nbformat": 4,
 "nbformat_minor": 5
}
